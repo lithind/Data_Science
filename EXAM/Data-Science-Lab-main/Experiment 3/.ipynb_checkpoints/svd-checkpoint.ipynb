{
 "cells": [
  {
   "cell_type": "code",
   "execution_count": 1,
   "metadata": {},
   "outputs": [
    {
     "name": "stdout",
     "output_type": "stream",
     "text": [
      "x= [[1 2 3]\n",
      " [4 5 6]\n",
      " [5 6 7]]\n",
      "u= [[-0.25775879  0.94609665  0.19611614]\n",
      " [-0.62014124 -0.00634259 -0.78446454]\n",
      " [-0.74093539 -0.32382234  0.58834841]]\n",
      "s= [1.41499421e+01 8.82688844e-01 6.73489881e-17]\n",
      "t= [[-0.4553376  -0.5697434  -0.6841492 ]\n",
      " [-0.79120225 -0.09341194  0.60437836]\n",
      " [-0.40824829  0.81649658 -0.40824829]]\n"
     ]
    }
   ],
   "source": [
    "#Program To Perform Svd Using Python\n",
    "\n",
    "\n",
    "import numpy as np\n",
    "from scipy.linalg import svd\n",
    "x=np.array([[1,2,3],[4,5,6],[5,6,7]])\n",
    "u,s,t=svd(x)\n",
    "print(\"x=\",x)\n",
    "print(\"u=\",u)\n",
    "print(\"s=\",s)\n",
    "print(\"t=\",t)"
   ]
  },
  {
   "cell_type": "code",
   "execution_count": null,
   "metadata": {},
   "outputs": [],
   "source": []
  }
 ],
 "metadata": {
  "kernelspec": {
   "display_name": "Python 3",
   "language": "python",
   "name": "python3"
  },
  "language_info": {
   "codemirror_mode": {
    "name": "ipython",
    "version": 3
   },
   "file_extension": ".py",
   "mimetype": "text/x-python",
   "name": "python",
   "nbconvert_exporter": "python",
   "pygments_lexer": "ipython3",
   "version": "3.7.1"
  }
 },
 "nbformat": 4,
 "nbformat_minor": 4
}
