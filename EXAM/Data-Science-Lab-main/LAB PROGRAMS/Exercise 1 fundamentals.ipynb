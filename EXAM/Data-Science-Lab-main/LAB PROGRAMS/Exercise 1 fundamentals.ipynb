{
 "cells": [
  {
   "cell_type": "code",
   "execution_count": 30,
   "metadata": {},
   "outputs": [
    {
     "name": "stdout",
     "output_type": "stream",
     "text": [
      "Enter 1st number:6\n",
      "enter 2nd number:3\n",
      "9\n",
      "3\n",
      "2.0\n",
      "18\n"
     ]
    }
   ],
   "source": [
    "#arithmetic operators\n",
    "\n",
    "a=int(input(\"Enter 1st number:\"))\n",
    "b=int(input(\"enter 2nd number:\"))\n",
    "c=a+b\n",
    "d=a-b\n",
    "e=a/b\n",
    "f=a*b\n",
    "print(c)\n",
    "print(d)\n",
    "print(e)\n",
    "print(f)\n"
   ]
  },
  {
   "cell_type": "code",
   "execution_count": 22,
   "metadata": {},
   "outputs": [
    {
     "name": "stdout",
     "output_type": "stream",
     "text": [
      "Enter 1st number:5\n",
      "Enter 2nd number:4\n",
      "Enter 3rd number:6\n",
      "c is greater\n"
     ]
    }
   ],
   "source": [
    "#greatest of a number \n",
    "\n",
    "a=int(input(\"Enter 1st number:\"))\n",
    "b=int(input(\"Enter 2nd number:\"))\n",
    "c=int(input(\"Enter 3rd number:\"))\n",
    "if(a>b and a>c):\n",
    "    print(\"a is greater\")\n",
    "elif(b>a and b>c):\n",
    "    print(\"b is greater\")\n",
    "else:\n",
    "    print(\"c is greater\")"
   ]
  },
  {
   "cell_type": "code",
   "execution_count": 11,
   "metadata": {},
   "outputs": [
    {
     "name": "stdout",
     "output_type": "stream",
     "text": [
      "DILSHAD\n",
      "dilshad\n"
     ]
    }
   ],
   "source": [
    "#string\n",
    "\n",
    "a=(\"dilshad\")\n",
    "b=(\"DILSHAD\")\n",
    "print(a.upper())\n",
    "print(b.lower())"
   ]
  },
  {
   "cell_type": "code",
   "execution_count": 28,
   "metadata": {},
   "outputs": [
    {
     "name": "stdout",
     "output_type": "stream",
     "text": [
      "List: ['hello', 'hi', 'how are you']\n",
      "After appending: ['hello', 'hi', 'how are you', 'now']\n",
      "Length: 4\n",
      "After inserting: ['first', 'hello', 'hi', 'how are you', 'now']\n",
      "Accessing last element: now\n"
     ]
    }
   ],
   "source": [
    "#list\n",
    "\n",
    "a=['hello','hi','how are you']\n",
    "print(\"List:\",a)\n",
    "a.append('now')\n",
    "print(\"After appending:\",a)\n",
    "print(\"Length:\",len(a))\n",
    "a.insert(0,\"first\")\n",
    "print(\"After inserting:\",a)\n",
    "print(\"Accessing last element:\",a[-1])\n"
   ]
  },
  {
   "cell_type": "code",
   "execution_count": 49,
   "metadata": {},
   "outputs": [
    {
     "name": "stdout",
     "output_type": "stream",
     "text": [
      "{'dilshad': 1, 'aswin': 2}\n",
      "{'anagha': 3, 'abhilash': 4}\n",
      "combining dict a and b: {'dilshad': 1, 'aswin': 2, 'anagha': 3, 'abhilash': 4}\n",
      "Roll no of dilshad is 1\n"
     ]
    }
   ],
   "source": [
    "#dictionary\n",
    "\n",
    "a={\"dilshad\":1,\"aswin\":2}\n",
    "b={\"anagha\":3,\"abhilash\":4}\n",
    "print(a)\n",
    "print(b)\n",
    "a.update(b)\n",
    "print(\"combining dict a and b:\",a)\n",
    "print(\"Roll no of dilshad is\",a[\"dilshad\"])"
   ]
  },
  {
   "cell_type": "code",
   "execution_count": 55,
   "metadata": {},
   "outputs": [
    {
     "name": "stdout",
     "output_type": "stream",
     "text": [
      "('hello', 'hi', '1')\n",
      "('123', '678')\n",
      "reversed tuple : ('1', 'hi', 'hello')\n"
     ]
    }
   ],
   "source": [
    "#tuple\n",
    "\n",
    "a=(\"hello\",\"hi\",\"1\")\n",
    "b=(\"123\",\"678\")\n",
    "print(a)\n",
    "print(b)\n",
    "reverse=a[::-1]\n",
    "print(\"reversed tuple :\",reverse)"
   ]
  },
  {
   "cell_type": "code",
   "execution_count": 1,
   "metadata": {},
   "outputs": [
    {
     "name": "stdout",
     "output_type": "stream",
     "text": [
      "set union: {1, 2, 3, 4, 5, 6, 7, 8, 9, 10, 11, 12}\n",
      "set union: {3, 4}\n",
      "set clear: None\n"
     ]
    }
   ],
   "source": [
    "#set\n",
    "\n",
    "a={1,2,3,4,5,6,7,8}\n",
    "b={9,3,4,10,11,12}\n",
    "print(\"set union:\",a.union(b))\n",
    "print(\"set union:\",a.intersection(b))\n",
    "print(\"set clear:\",a.clear())"
   ]
  },
  {
   "cell_type": "code",
   "execution_count": 2,
   "metadata": {},
   "outputs": [
    {
     "name": "stdout",
     "output_type": "stream",
     "text": [
      "7\n"
     ]
    }
   ],
   "source": [
    "#function\n",
    "\n",
    "def sum(a,b):\n",
    "    c=a+b\n",
    "    return c\n",
    "print(sum(3,4))"
   ]
  },
  {
   "cell_type": "code",
   "execution_count": 3,
   "metadata": {},
   "outputs": [
    {
     "name": "stdout",
     "output_type": "stream",
     "text": [
      "2\n",
      "3\n",
      "4\n",
      "5\n"
     ]
    }
   ],
   "source": [
    "#for\n",
    "\n",
    "for i in range(2,6):\n",
    "    print(i)"
   ]
  },
  {
   "cell_type": "code",
   "execution_count": null,
   "metadata": {
    "collapsed": true
   },
   "outputs": [],
   "source": []
  }
 ],
 "metadata": {
  "kernelspec": {
   "display_name": "Python 3",
   "language": "python",
   "name": "python3"
  },
  "language_info": {
   "codemirror_mode": {
    "name": "ipython",
    "version": 3
   },
   "file_extension": ".py",
   "mimetype": "text/x-python",
   "name": "python",
   "nbconvert_exporter": "python",
   "pygments_lexer": "ipython3",
   "version": "3.6.3"
  }
 },
 "nbformat": 4,
 "nbformat_minor": 2
}
