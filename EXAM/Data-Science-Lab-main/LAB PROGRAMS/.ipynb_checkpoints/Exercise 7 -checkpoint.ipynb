{
 "cells": [
  {
   "cell_type": "code",
   "execution_count": 5,
   "metadata": {},
   "outputs": [
    {
     "name": "stdout",
     "output_type": "stream",
     "text": [
      "[0 0 0 1 2 2 2]\n",
      "[0 0 0 1 2 2 2]\n",
      "1.0\n",
      "0.972027972028\n"
     ]
    }
   ],
   "source": [
    "#KNN\n",
    "\n",
    "from sklearn.neighbors import KNeighborsClassifier\n",
    "from sklearn.model_selection import train_test_split\n",
    "from sklearn.datasets import load_iris\n",
    "irisData=load_iris()\n",
    "x=irisData.data\n",
    "y=irisData.target\n",
    "x_train,x_test,y_train,y_test=train_test_split(x,y,test_size=7,random_state=92)\n",
    "knn=KNeighborsClassifier(n_neighbors=7)\n",
    "knn.fit(x_train,y_train)\n",
    "print(knn.predict(x_test))\n",
    "print(y_test)\n",
    "print(knn.score(x_test,y_test))\n",
    "print(knn.score(x_train,y_train))\n"
   ]
  },
  {
   "cell_type": "code",
   "execution_count": 8,
   "metadata": {},
   "outputs": [
    {
     "name": "stdout",
     "output_type": "stream",
     "text": [
      "1.0\n",
      "0.958041958042\n"
     ]
    },
    {
     "data": {
      "text/plain": [
       "1.0"
      ]
     },
     "execution_count": 8,
     "metadata": {},
     "output_type": "execute_result"
    }
   ],
   "source": [
    "#Naive bias\n",
    "\n",
    "from sklearn.naive_bayes import GaussianNB\n",
    "from sklearn.model_selection import train_test_split\n",
    "from sklearn.datasets import load_iris\n",
    "from sklearn import metrics\n",
    "irisData=load_iris()\n",
    "x=irisData.data\n",
    "y=irisData.target\n",
    "x_train,x_test,y_train,y_test=train_test_split(x,y,test_size=7,random_state=92)\n",
    "\n",
    "nav=GaussianNB()\n",
    "nav.fit(x_train,y_train)\n",
    "y_pred=nav.predict(x_test)\n",
    "y_pred_train=nav.predict(x_train)\n",
    "print(nav.score(x_test,y_test))\n",
    "print(nav.score(x_train,y_train))\n",
    "metrics.accuracy_score(y_test,y_pred)"
   ]
  },
  {
   "cell_type": "code",
   "execution_count": null,
   "metadata": {
    "collapsed": true
   },
   "outputs": [],
   "source": []
  }
 ],
 "metadata": {
  "kernelspec": {
   "display_name": "Python 3",
   "language": "python",
   "name": "python3"
  },
  "language_info": {
   "codemirror_mode": {
    "name": "ipython",
    "version": 3
   },
   "file_extension": ".py",
   "mimetype": "text/x-python",
   "name": "python",
   "nbconvert_exporter": "python",
   "pygments_lexer": "ipython3",
   "version": "3.7.1"
  }
 },
 "nbformat": 4,
 "nbformat_minor": 2
}
