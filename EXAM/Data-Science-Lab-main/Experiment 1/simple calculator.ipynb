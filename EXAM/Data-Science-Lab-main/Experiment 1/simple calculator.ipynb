{
 "cells": [
  {
   "cell_type": "code",
   "execution_count": 2,
   "metadata": {},
   "outputs": [
    {
     "name": "stdout",
     "output_type": "stream",
     "text": [
      "Enter 1st number:10\n",
      "Enter 2nd number:2\n",
      "\n",
      "1.Addition\n",
      "2.Substraction\n",
      "3.Multipluication\n",
      "4.Division\n",
      "\n",
      "Choose an option:4\n",
      "Division 5.0\n"
     ]
    }
   ],
   "source": [
    "#Program to implement simple calculator using python\n",
    "\n",
    "a=int(input(\"Enter 1st number:\"))\n",
    "b=int(input(\"Enter 2nd number:\"))\n",
    "print(\"\\n1.Addition\")\n",
    "print(\"2.Substraction\")\n",
    "print(\"3.Multipluication\")\n",
    "print(\"4.Division\")\n",
    "option=int(input(\"\\nChoose an option:\"))\n",
    "if(option==1):\n",
    "    print(\"Addition:\",a+b)\n",
    "elif(option==2):\n",
    "    print(\"Substraction:\",a-b)\n",
    "elif(option==3):\n",
    "    print(\"Multiplication\",a*b)\n",
    "elif(option==4):\n",
    "    print(\"Division\",a/b)\n",
    "else:\n",
    "    print(\"Invalid option\")"
   ]
  },
  {
   "cell_type": "code",
   "execution_count": null,
   "metadata": {},
   "outputs": [],
   "source": []
  }
 ],
 "metadata": {
  "kernelspec": {
   "display_name": "Python 3",
   "language": "python",
   "name": "python3"
  },
  "language_info": {
   "codemirror_mode": {
    "name": "ipython",
    "version": 3
   },
   "file_extension": ".py",
   "mimetype": "text/x-python",
   "name": "python",
   "nbconvert_exporter": "python",
   "pygments_lexer": "ipython3",
   "version": "3.8.5"
  }
 },
 "nbformat": 4,
 "nbformat_minor": 4
}
