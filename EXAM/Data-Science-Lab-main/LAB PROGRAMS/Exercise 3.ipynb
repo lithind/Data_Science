{
 "cells": [
  {
   "cell_type": "code",
   "execution_count": 7,
   "metadata": {},
   "outputs": [
    {
     "name": "stdout",
     "output_type": "stream",
     "text": [
      "DATA: [10, 5, 6, 2, 3]\n",
      "Mean is 5.2\n",
      "Median is 5.0\n",
      "Variance is 7.76\n",
      "Standard deviation is 2.78567765544\n",
      "Sorted data: [ 2  3  5  6 10]\n",
      "Sum is 26\n"
     ]
    }
   ],
   "source": [
    "#find mean,median,variance,standard deviation,sorting and sum od the data\n",
    "\n",
    "import numpy as np\n",
    "a=[10,5,6,2,3]\n",
    "print(\"DATA:\",a)\n",
    "print(\"Mean is\",np.mean(a))\n",
    "print(\"Median is\",np.median(a))\n",
    "print(\"Variance is\",np.var(a))\n",
    "print(\"Standard deviation is\",np.std(a))\n",
    "print(\"Sorted data:\",np.sort(a))\n",
    "print(\"Sum is\",np.sum(a))"
   ]
  },
  {
   "cell_type": "code",
   "execution_count": 8,
   "metadata": {},
   "outputs": [
    {
     "name": "stdout",
     "output_type": "stream",
     "text": [
      "Addition: [ 7  9 11]\n"
     ]
    }
   ],
   "source": [
    "#add\n",
    "\n",
    "a=[2,3,4]\n",
    "b=[5,6,7]\n",
    "print(\"Addition:\",np.add(a,b))"
   ]
  },
  {
   "cell_type": "code",
   "execution_count": 9,
   "metadata": {},
   "outputs": [
    {
     "name": "stdout",
     "output_type": "stream",
     "text": [
      "Sin: [-0.54402111  0.91294525  0.65028784  0.14112001]\n",
      "Cos: [-0.83907153  0.40808206 -0.75968791 -0.9899925 ]\n"
     ]
    }
   ],
   "source": [
    "#sin,cos\n",
    "\n",
    "a=[10,20,15,3]\n",
    "print(\"Sin:\",np.sin(a))\n",
    "print(\"Cos:\",np.cos(a))"
   ]
  },
  {
   "cell_type": "code",
   "execution_count": 13,
   "metadata": {},
   "outputs": [
    {
     "name": "stdout",
     "output_type": "stream",
     "text": [
      "number less than 20 by where condition: (array([0, 2]),)\n"
     ]
    }
   ],
   "source": [
    "#where condition\n",
    "\n",
    "a=np.array([10,20,15,25])\n",
    "print(\"number less than 20 by where condition:\",np.where(a<20))"
   ]
  },
  {
   "cell_type": "code",
   "execution_count": 28,
   "metadata": {},
   "outputs": [
    {
     "name": "stdout",
     "output_type": "stream",
     "text": [
      "[[1 2]\n",
      " [2 3]]\n",
      "\n",
      "inverse\n",
      "-------\n",
      " [[-3.  2.]\n",
      " [ 2. -1.]]\n"
     ]
    }
   ],
   "source": [
    "#inverse\n",
    "\n",
    "import scipy.linalg\n",
    "a=np.array([[1,2],[2,3]])\n",
    "print(a)\n",
    "print(\"\\ninverse\\n-------\\n\",scipy.linalg.inv(a))"
   ]
  },
  {
   "cell_type": "code",
   "execution_count": 30,
   "metadata": {},
   "outputs": [
    {
     "name": "stdout",
     "output_type": "stream",
     "text": [
      "[[0 2]\n",
      " [1 3]]\n"
     ]
    }
   ],
   "source": [
    "#swapaxes\n",
    "\n",
    "a=np.arange(4).reshape(2,2)\n",
    "print(np.swapaxes(a,0,1))"
   ]
  },
  {
   "cell_type": "code",
   "execution_count": 32,
   "metadata": {},
   "outputs": [
    {
     "name": "stdout",
     "output_type": "stream",
     "text": [
      "[[0 1]\n",
      " [2 3]]\n"
     ]
    }
   ],
   "source": [
    "#rollaxis\n",
    "\n",
    "a=np.arange(4).reshape(2,2)\n",
    "print(np.rollaxis(a,0,1))"
   ]
  },
  {
   "cell_type": "code",
   "execution_count": 21,
   "metadata": {},
   "outputs": [
    {
     "data": {
      "image/png": "[encoded data removed]",
      "text/plain": [
       "<matplotlib.figure.Figure at 0x7f9e8f4c1278>"
      ]
     },
     "metadata": {},
     "output_type": "display_data"
    }
   ],
   "source": [
    "#plot graph\n",
    "\n",
    "from matplotlib import pyplot as plt\n",
    "a=[10,6,2,4]\n",
    "plt.plot(a)\n",
    "plt.show()"
   ]
  },
  {
   "cell_type": "code",
   "execution_count": 12,
   "metadata": {
    "scrolled": true
   },
   "outputs": [
    {
     "data": {
      "image/png": "[encoded data removed]",
      "text/plain": [
       "<matplotlib.figure.Figure at 0x7fdc36b10c50>"
      ]
     },
     "metadata": {},
     "output_type": "display_data"
    }
   ],
   "source": [
    "#plot graph with x and y rray values\n",
    "\n",
    "import numpy as np\n",
    "from matplotlib import pyplot as pt\n",
    "x=np.arange(0,10,0.1)\n",
    "y=np.sin(x)\n",
    "pt.plot(x,y)\n",
    "pt.xlabel(\"x axis\")\n",
    "pt.ylabel(\"y axis\")\n",
    "pt.title(\"sin graph\")\n",
    "pt.show()"
   ]
  },
  {
   "cell_type": "code",
   "execution_count": 14,
   "metadata": {},
   "outputs": [
    {
     "data": {
      "image/png": "[encoded data removed]",
      "text/plain": [
       "<matplotlib.figure.Figure at 0x7fdc36bf6240>"
      ]
     },
     "metadata": {},
     "output_type": "display_data"
    }
   ],
   "source": [
    "#to represent graph in scatter format\n",
    "\n",
    "pt.scatter(x,y)\n",
    "pt.show()"
   ]
  },
  {
   "cell_type": "code",
   "execution_count": 16,
   "metadata": {},
   "outputs": [
    {
     "data": {
      "image/png": "[encoded data removed]",
      "text/plain": [
       "<matplotlib.figure.Figure at 0x7fdc36b107f0>"
      ]
     },
     "metadata": {},
     "output_type": "display_data"
    }
   ],
   "source": [
    "#to color\n",
    "pt.plot(x,y,'b+')\n",
    "pt.show()"
   ]
  },
  {
   "cell_type": "code",
   "execution_count": null,
   "metadata": {
    "collapsed": true
   },
   "outputs": [],
   "source": []
  }
 ],
 "metadata": {
  "kernelspec": {
   "display_name": "Python 3",
   "language": "python",
   "name": "python3"
  },
  "language_info": {
   "codemirror_mode": {
    "name": "ipython",
    "version": 3
   },
   "file_extension": ".py",
   "mimetype": "text/x-python",
   "name": "python",
   "nbconvert_exporter": "python",
   "pygments_lexer": "ipython3",
   "version": "3.8.5"
  }
 },
 "nbformat": 4,
 "nbformat_minor": 2
}
