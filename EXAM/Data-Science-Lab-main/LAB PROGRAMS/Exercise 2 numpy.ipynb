{
 "cells": [
  {
   "cell_type": "code",
   "execution_count": 2,
   "metadata": {},
   "outputs": [
    {
     "name": "stdout",
     "output_type": "stream",
     "text": [
      "[1 2 3 4]\n"
     ]
    }
   ],
   "source": [
    "import numpy as np\n",
    "a=np.array([1,2,3,4])\n",
    "print(a)"
   ]
  },
  {
   "cell_type": "code",
   "execution_count": 6,
   "metadata": {},
   "outputs": [
    {
     "name": "stdout",
     "output_type": "stream",
     "text": [
      "[[1 2]\n",
      " [2 3]\n",
      " [4 5]]\n"
     ]
    }
   ],
   "source": [
    "import numpy as np\n",
    "a=np.array([[1,2],[2,3],[4,5]])\n",
    "print(a)"
   ]
  },
  {
   "cell_type": "code",
   "execution_count": 14,
   "metadata": {},
   "outputs": [
    {
     "name": "stdout",
     "output_type": "stream",
     "text": [
      "[[1]\n",
      " [2]\n",
      " [2]\n",
      " [3]\n",
      " [4]\n",
      " [5]]\n"
     ]
    }
   ],
   "source": [
    "#reshape\n",
    "\n",
    "import numpy as np\n",
    "a=np.array([[1,2],[2,3],[4,5]])\n",
    "print(a.reshape(6,1))"
   ]
  },
  {
   "cell_type": "code",
   "execution_count": 24,
   "metadata": {},
   "outputs": [
    {
     "name": "stdout",
     "output_type": "stream",
     "text": [
      "[[ 0.  0.  0.  0.]\n",
      " [ 0.  0.  0.  0.]]\n"
     ]
    }
   ],
   "source": [
    "#zeros\n",
    "\n",
    "print(np.zeros((2,4)))"
   ]
  },
  {
   "cell_type": "code",
   "execution_count": 22,
   "metadata": {},
   "outputs": [
    {
     "name": "stdout",
     "output_type": "stream",
     "text": [
      "[[ 1.  1.  1.]\n",
      " [ 1.  1.  1.]\n",
      " [ 1.  1.  1.]]\n"
     ]
    }
   ],
   "source": [
    "#ones\n",
    "\n",
    "print(np.ones((3,3)))"
   ]
  },
  {
   "cell_type": "code",
   "execution_count": 34,
   "metadata": {},
   "outputs": [
    {
     "name": "stdout",
     "output_type": "stream",
     "text": [
      "[[ 27.  69.]\n",
      " [ 51.  45.]\n",
      " [ 34.  56.]]\n"
     ]
    }
   ],
   "source": [
    "#random\n",
    "\n",
    "import numpy as np\n",
    "a=np.array([[1,2],[2,3],[4,5]])\n",
    "print(np.floor(100*np.random.random((3,2))))"
   ]
  },
  {
   "cell_type": "code",
   "execution_count": 32,
   "metadata": {},
   "outputs": [
    {
     "name": "stdout",
     "output_type": "stream",
     "text": [
      "[ 2.          2.33333333  2.66666667  3.        ]\n"
     ]
    }
   ],
   "source": [
    "#linespace\n",
    "\n",
    "a=np.linspace(2,3,4)\n",
    "print(a)"
   ]
  },
  {
   "cell_type": "code",
   "execution_count": 40,
   "metadata": {},
   "outputs": [
    {
     "name": "stdout",
     "output_type": "stream",
     "text": [
      "Before Transpose\n",
      "----------------\n",
      "[[1 2]\n",
      " [2 3]\n",
      " [4 5]]\n",
      "\n",
      "After Transpose\n",
      "----------------\n",
      "[[1 2 4]\n",
      " [2 3 5]]\n"
     ]
    }
   ],
   "source": [
    "#matrix transpose\n",
    "\n",
    "import numpy as np\n",
    "a=np.array([[1,2],[2,3],[4,5]])\n",
    "print(\"Before Transpose\")\n",
    "print(\"----------------\")\n",
    "print(a)\n",
    "print(\"\\nAfter Transpose\")\n",
    "print(\"----------------\")\n",
    "print(a.transpose())"
   ]
  },
  {
   "cell_type": "code",
   "execution_count": 41,
   "metadata": {},
   "outputs": [
    {
     "name": "stdout",
     "output_type": "stream",
     "text": [
      "[[1 2]\n",
      " [2 3]]\n",
      "*\n",
      "[[2 4]\n",
      " [3 2]]\n",
      "=\n",
      "[[ 8  8]\n",
      " [13 14]]\n"
     ]
    }
   ],
   "source": [
    "#matrix multiplication\n",
    "\n",
    "import numpy as np\n",
    "a=np.array([[1,2],[2,3]])\n",
    "b=np.array([[2,4],[3,2]])\n",
    "print(a)\n",
    "print(\"*\")\n",
    "print(b)\n",
    "print(\"=\")\n",
    "print(a.dot(b))"
   ]
  },
  {
   "cell_type": "code",
   "execution_count": 2,
   "metadata": {},
   "outputs": [
    {
     "name": "stdout",
     "output_type": "stream",
     "text": [
      "x= [[1 2 3]\n",
      " [4 5 6]\n",
      " [5 6 7]]\n",
      "u= [[-0.25775879  0.94609665  0.19611614]\n",
      " [-0.62014124 -0.00634259 -0.78446454]\n",
      " [-0.74093539 -0.32382234  0.58834841]]\n",
      "s= [  1.41499421e+01   8.82688844e-01   6.73489881e-17]\n",
      "t= [[-0.4553376  -0.5697434  -0.6841492 ]\n",
      " [-0.79120225 -0.09341194  0.60437836]\n",
      " [-0.40824829  0.81649658 -0.40824829]]\n"
     ]
    }
   ],
   "source": [
    "#svd\n",
    "\n",
    "import numpy as np\n",
    "from scipy.linalg import svd\n",
    "x=np.array([[1,2,3],[4,5,6],[5,6,7]])\n",
    "u,s,t=svd(x)\n",
    "print(\"x=\",x)\n",
    "print(\"u=\",u)\n",
    "print(\"s=\",s)\n",
    "print(\"t=\",t)"
   ]
  },
  {
   "cell_type": "code",
   "execution_count": null,
   "metadata": {
    "collapsed": true
   },
   "outputs": [],
   "source": []
  }
 ],
 "metadata": {
  "kernelspec": {
   "display_name": "Python 3",
   "language": "python",
   "name": "python3"
  },
  "language_info": {
   "codemirror_mode": {
    "name": "ipython",
    "version": 3
   },
   "file_extension": ".py",
   "mimetype": "text/x-python",
   "name": "python",
   "nbconvert_exporter": "python",
   "pygments_lexer": "ipython3",
   "version": "3.6.3"
  }
 },
 "nbformat": 4,
 "nbformat_minor": 2
}
