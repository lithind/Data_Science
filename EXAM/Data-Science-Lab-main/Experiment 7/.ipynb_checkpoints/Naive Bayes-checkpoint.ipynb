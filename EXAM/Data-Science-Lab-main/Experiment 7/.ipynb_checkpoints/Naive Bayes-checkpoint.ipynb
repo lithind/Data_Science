{
 "cells": [
  {
   "cell_type": "code",
   "execution_count": 1,
   "metadata": {},
   "outputs": [
    {
     "name": "stdout",
     "output_type": "stream",
     "text": [
      "1.0\n",
      "0.958041958041958\n"
     ]
    },
    {
     "data": {
      "text/plain": [
       "1.0"
      ]
     },
     "execution_count": 1,
     "metadata": {},
     "output_type": "execute_result"
    }
   ],
   "source": [
    "#program to implement Naive Bayes Algorithm using any standard dataset available in the public domain and find the accuracy of the algorithm\n",
    "\n",
    "from sklearn.naive_bayes import GaussianNB\n",
    "from sklearn.model_selection import train_test_split\n",
    "from sklearn.datasets import load_iris\n",
    "from sklearn import metrics\n",
    "irisData=load_iris()\n",
    "x=irisData.data\n",
    "y=irisData.target\n",
    "x_train,x_test,y_train,y_test=train_test_split(x,y,test_size=7,random_state=92)\n",
    "\n",
    "nav=GaussianNB()\n",
    "nav.fit(x_train,y_train)\n",
    "y_pred=nav.predict(x_test)\n",
    "y_pred_train=nav.predict(x_train)\n",
    "print(nav.score(x_test,y_test))\n",
    "print(nav.score(x_train,y_train))\n",
    "metrics.accuracy_score(y_test,y_pred)"
   ]
  }
 ],
 "metadata": {
  "kernelspec": {
   "display_name": "Python 3",
   "language": "python",
   "name": "python3"
  },
  "language_info": {
   "codemirror_mode": {
    "name": "ipython",
    "version": 3
   },
   "file_extension": ".py",
   "mimetype": "text/x-python",
   "name": "python",
   "nbconvert_exporter": "python",
   "pygments_lexer": "ipython3",
   "version": "3.7.1"
  }
 },
 "nbformat": 4,
 "nbformat_minor": 4
}
