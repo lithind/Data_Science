{
 "cells": [
  {
   "cell_type": "code",
   "execution_count": 1,
   "metadata": {},
   "outputs": [
    {
     "name": "stdout",
     "output_type": "stream",
     "text": [
      "[0 0 0 1 2 2 2]\n",
      "[0 0 0 1 2 2 2]\n",
      "1.0\n",
      "0.972027972027972\n"
     ]
    }
   ],
   "source": [
    "#program to implement k-NN classification using any standard dataset available in the public domain and find the accuracy of the algorithm\n",
    "\n",
    "from sklearn.neighbors import KNeighborsClassifier\n",
    "from sklearn.model_selection import train_test_split\n",
    "from sklearn.datasets import load_iris\n",
    "irisData=load_iris()\n",
    "x=irisData.data\n",
    "y=irisData.target\n",
    "x_train,x_test,y_train,y_test=train_test_split(x,y,test_size=7,random_state=92)\n",
    "knn=KNeighborsClassifier(n_neighbors=7)\n",
    "knn.fit(x_train,y_train)\n",
    "print(knn.predict(x_test))\n",
    "print(y_test)\n",
    "print(knn.score(x_test,y_test))\n",
    "print(knn.score(x_train,y_train))"
   ]
  }
 ],
 "metadata": {
  "kernelspec": {
   "display_name": "Python 3",
   "language": "python",
   "name": "python3"
  },
  "language_info": {
   "codemirror_mode": {
    "name": "ipython",
    "version": 3
   },
   "file_extension": ".py",
   "mimetype": "text/x-python",
   "name": "python",
   "nbconvert_exporter": "python",
   "pygments_lexer": "ipython3",
   "version": "3.7.1"
  }
 },
 "nbformat": 4,
 "nbformat_minor": 4
}
